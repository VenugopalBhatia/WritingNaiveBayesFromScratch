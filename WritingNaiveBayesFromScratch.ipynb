{
 "cells": [
  {
   "cell_type": "code",
   "execution_count": 1,
   "metadata": {},
   "outputs": [],
   "source": [
    "import numpy as np"
   ]
  },
  {
   "cell_type": "code",
   "execution_count": 45,
   "metadata": {},
   "outputs": [],
   "source": [
    "def fit(X,y):\n",
    "    dictionary = {}\n",
    "    classes = set(y)\n",
    "    features = X.shape[1]\n",
    "    dictionary['total_classes'] = len(y)\n",
    "    for i in classes:\n",
    "        current_class_rows = (y == i)\n",
    "        X_current = X[current_class_rows]\n",
    "        y_current = y[current_class_rows]\n",
    "        class_occurence = len(y_current)\n",
    "        dictionary[i] = {}\n",
    "        dictionary[i]['class_occurence'] = class_occurence\n",
    "        for j in range(1,features + 1):\n",
    "            dictionary[i][j] = {}\n",
    "            t = set(X[:,j-1])\n",
    "            for k in t:\n",
    "                dictionary[i][j][k] = (X_current[:,j-1] == k).sum()\n",
    "                \n",
    "    return dictionary"
   ]
  },
  {
   "cell_type": "code",
   "execution_count": 3,
   "metadata": {},
   "outputs": [
    {
     "data": {
      "text/plain": [
       "2"
      ]
     },
     "execution_count": 3,
     "metadata": {},
     "output_type": "execute_result"
    }
   ],
   "source": [
    "y = np.array([1,2,3,4,4])\n",
    "len(y[y==4])"
   ]
  },
  {
   "cell_type": "code",
   "execution_count": 48,
   "metadata": {},
   "outputs": [],
   "source": [
    "def prediction(dictionary,x,y):\n",
    "    output = np.log(dictionary[y]['class_occurence']) - np.log(dictionary['total_classes'])\n",
    "    num_features = len(dictionary[y].keys()) - 1\n",
    "    for i in range(1,num_features+1):\n",
    "        c = x[i-1] \n",
    "        current_value = dictionary[y][i][c] + 1\n",
    "        count_current_class = dictionary[y]['class_occurence'] + len(dictionary[y].keys())\n",
    "        probability = np.log(current_value) - np.log(count_current_class)\n",
    "        output = output + probability\n",
    "    return output\n",
    "\n",
    "    \n",
    "    "
   ]
  },
  {
   "cell_type": "code",
   "execution_count": 47,
   "metadata": {},
   "outputs": [],
   "source": [
    "def bestPredSinglePoint(dictionary,x):\n",
    "    classes = dictionary.keys()\n",
    "    best = -1000\n",
    "    bestClass = -12\n",
    "    first_run = True\n",
    "    for i in classes:\n",
    "        if i == 'total_classes':\n",
    "            continue\n",
    "        pred = prediction(dictionary,x,i)\n",
    "        if first_run or pred > best :\n",
    "            best = pred\n",
    "            bestClass = i\n",
    "        first_run = False\n",
    "    return bestClass\n",
    "    \n",
    "    \n",
    "    "
   ]
  },
  {
   "cell_type": "code",
   "execution_count": 50,
   "metadata": {},
   "outputs": [],
   "source": [
    "def pred(dictionary,X_test):\n",
    "    y_pred = []\n",
    "    for i in X_test:\n",
    "        p = bestPredSinglePoint(dictionary,i)\n",
    "        y_pred.append(p)\n",
    "    return y_pred   "
   ]
  },
  {
   "cell_type": "code",
   "execution_count": 7,
   "metadata": {},
   "outputs": [],
   "source": [
    "def makeLabelled(column):\n",
    "    second_limit = column.mean()\n",
    "    first_limit = 0.5 * second_limit\n",
    "    third_limit = 1.5*second_limit\n",
    "    for i in range (0,len(column)):\n",
    "        if (column[i] < first_limit):\n",
    "            column[i] = 0\n",
    "        elif (column[i] < second_limit):\n",
    "            column[i] = 1\n",
    "        elif(column[i] < third_limit):\n",
    "            column[i] = 2\n",
    "        else:\n",
    "            column[i] = 3\n",
    "    return column\n"
   ]
  },
  {
   "cell_type": "code",
   "execution_count": 8,
   "metadata": {},
   "outputs": [],
   "source": [
    "from sklearn import datasets\n",
    "iris = datasets.load_iris()\n",
    "X = iris.data\n",
    "Y = iris.target"
   ]
  },
  {
   "cell_type": "code",
   "execution_count": 9,
   "metadata": {},
   "outputs": [],
   "source": [
    "for i in range(0,X.shape[-1]):\n",
    "    X[:,i] = makeLabelled(X[:,i])"
   ]
  },
  {
   "cell_type": "code",
   "execution_count": 10,
   "metadata": {},
   "outputs": [],
   "source": [
    "from sklearn import model_selection\n",
    "X_train,X_test,Y_train,Y_test = model_selection.train_test_split(X,Y,test_size=0.25,random_state=0)"
   ]
  },
  {
   "cell_type": "code",
   "execution_count": 51,
   "metadata": {
    "scrolled": false
   },
   "outputs": [
    {
     "name": "stdout",
     "output_type": "stream",
     "text": [
      "             precision    recall  f1-score   support\n",
      "\n",
      "          0       1.00      1.00      1.00        13\n",
      "          1       0.94      1.00      0.97        16\n",
      "          2       1.00      0.89      0.94         9\n",
      "\n",
      "avg / total       0.98      0.97      0.97        38\n",
      "\n",
      "[[13  0  0]\n",
      " [ 0 16  0]\n",
      " [ 0  1  8]]\n"
     ]
    }
   ],
   "source": [
    "dictionary = fit(X_train,Y_train)\n",
    "Y_pred = pred(dictionary,X_test)\n",
    "from sklearn.metrics import classification_report, confusion_matrix\n",
    "print(classification_report(Y_test,Y_pred))\n",
    "print(confusion_matrix(Y_test,Y_pred))"
   ]
  },
  {
   "cell_type": "code",
   "execution_count": null,
   "metadata": {},
   "outputs": [],
   "source": []
  },
  {
   "cell_type": "code",
   "execution_count": null,
   "metadata": {},
   "outputs": [],
   "source": []
  },
  {
   "cell_type": "code",
   "execution_count": null,
   "metadata": {},
   "outputs": [],
   "source": []
  },
  {
   "cell_type": "code",
   "execution_count": null,
   "metadata": {},
   "outputs": [],
   "source": []
  }
 ],
 "metadata": {
  "kernelspec": {
   "display_name": "Python 3",
   "language": "python",
   "name": "python3"
  },
  "language_info": {
   "codemirror_mode": {
    "name": "ipython",
    "version": 3
   },
   "file_extension": ".py",
   "mimetype": "text/x-python",
   "name": "python",
   "nbconvert_exporter": "python",
   "pygments_lexer": "ipython3",
   "version": "3.6.5"
  }
 },
 "nbformat": 4,
 "nbformat_minor": 2
}
